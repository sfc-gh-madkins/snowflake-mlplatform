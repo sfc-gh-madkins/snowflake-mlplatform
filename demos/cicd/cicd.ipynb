{
 "cells": [
  {
   "cell_type": "code",
   "execution_count": 1,
   "id": "60566ae6-8b6c-4ea0-b464-2cd0c92c255b",
   "metadata": {},
   "outputs": [
    {
     "name": "stderr",
     "output_type": "stream",
     "text": [
      "SnowflakeLoginOptions() is in private preview since 0.2.0. Do not use it in production. \n"
     ]
    },
    {
     "data": {
      "text/plain": [
       "[]"
      ]
     },
     "execution_count": 1,
     "metadata": {},
     "output_type": "execute_result"
    }
   ],
   "source": [
    "from snowflake.snowpark import Session\n",
    "from snowflake.ml.utils import connection_params\n",
    "\n",
    "session = Session.builder.configs(connection_params.SnowflakeLoginOptions()).create()\n",
    "\n",
    "#Clean up old objects\n",
    "[session.sql(f\"DROP DATABASE {db['name']}\").collect()  for db in session.sql(\"SHOW DATABASES\").collect() if db['name'].startswith('SNOWFLAKE_MLPLATFORM_')]"
   ]
  },
  {
   "cell_type": "code",
   "execution_count": 2,
   "id": "9afae3d9-8ff0-433b-98e8-93c9b5df7b59",
   "metadata": {},
   "outputs": [],
   "source": [
    "#Create unique ephemeral namespace\n",
    "from datetime import datetime\n",
    "import uuid\n",
    "\n",
    "SNOWFLAKE_DATABASE = f\"SNOWFLAKE_MLPLATFORM_TEST_{uuid.uuid4().hex[:8].upper()}\"\n",
    "SNOWFLAKE_SCHEMA = f\"SNOWFLAKE_MLPLATFORM_TEST_{datetime.now().strftime('%Y%m%d%H%M%S')}_{uuid.uuid4().hex[:8].upper()}\"\n",
    "SNOWFLAKE_DATABASE_PROD = \"SNOWFLAKE_ML_PLATFORM\"\n",
    "SNOWFLAKE_SCHEMA_PROD = \"PROD\"\n",
    "\n",
    "#Create ephemeral database to land prod clone\n",
    "session.sql(f\"CREATE DATABASE {SNOWFLAKE_DATABASE}\").collect(); session.sql(\"DROP SCHEMA PUBLIC\").collect()\n",
    "\n",
    "#Clone prod environment\n",
    "session.sql(f\"CREATE SCHEMA {SNOWFLAKE_DATABASE}.{SNOWFLAKE_SCHEMA} CLONE {SNOWFLAKE_DATABASE_PROD}.{SNOWFLAKE_SCHEMA_PROD}\").collect()\n",
    "\n",
    "#Bandaid to copy models\n",
    "from migrations.models.clone_models import clone_models\n",
    "clone_models(session, SNOWFLAKE_DATABASE_PROD, SNOWFLAKE_SCHEMA_PROD)"
   ]
  },
  {
   "cell_type": "code",
   "execution_count": 3,
   "id": "d3681394-ea22-44f5-b604-2701de5b7cc3",
   "metadata": {},
   "outputs": [],
   "source": [
    "clone_models(session, SNOWFLAKE_DATABASE_PROD, SNOWFLAKE_SCHEMA_PROD)"
   ]
  },
  {
   "cell_type": "code",
   "execution_count": 4,
   "id": "50ff58aa-462d-4100-a425-7e75c34df31e",
   "metadata": {},
   "outputs": [],
   "source": [
    "from migrations.features.apply_features import apply_feature_changes\n",
    "from migrations.datasets.apply_datasets import apply_dataset_changes\n",
    "from migrations.models.apply_models import apply_model_changes\n",
    "\n",
    "apply_feature_changes(session)\n",
    "apply_dataset_changes(session)\n",
    "apply_model_changes(session)"
   ]
  }
 ],
 "metadata": {
  "kernelspec": {
   "display_name": "Python 3 (ipykernel)",
   "language": "python",
   "name": "python3"
  },
  "language_info": {
   "codemirror_mode": {
    "name": "ipython",
    "version": 3
   },
   "file_extension": ".py",
   "mimetype": "text/x-python",
   "name": "python",
   "nbconvert_exporter": "python",
   "pygments_lexer": "ipython3",
   "version": "3.9.16"
  }
 },
 "nbformat": 4,
 "nbformat_minor": 5
}
